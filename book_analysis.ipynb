{
 "cells": [
  {
   "cell_type": "markdown",
   "id": "12965643-4d04-42bb-8c85-d49a073e95b8",
   "metadata": {},
   "source": [
    "# Load the book"
   ]
  },
  {
   "cell_type": "code",
   "execution_count": 3,
   "id": "ab2ac3a1-b189-405f-a705-027b66276cab",
   "metadata": {},
   "outputs": [],
   "source": [
    "with open(\"miracle_in_the_andes.txt\", \"r\", encoding=\"UTF-8\") as file:\n",
    "    book = file.read()"
   ]
  },
  {
   "cell_type": "code",
   "execution_count": 6,
   "id": "7d998365-4170-4a31-9adc-c08aa1c06241",
   "metadata": {},
   "outputs": [
    {
     "data": {
      "text/plain": [
       "str"
      ]
     },
     "execution_count": 6,
     "metadata": {},
     "output_type": "execute_result"
    }
   ],
   "source": [
    "type(book)"
   ]
  },
  {
   "cell_type": "markdown",
   "id": "02f3b71a-90c0-417b-a3c1-23b200d8fa7c",
   "metadata": {},
   "source": [
    "# How many chapters in the book?"
   ]
  },
  {
   "cell_type": "markdown",
   "id": "ddb2ae3a-f409-4f32-ba10-e4035b3fe0fa",
   "metadata": {},
   "source": [
    "### With string methods"
   ]
  },
  {
   "cell_type": "code",
   "execution_count": 7,
   "id": "8d78cb50-3d8e-429d-8449-e80eac9d316f",
   "metadata": {},
   "outputs": [
    {
     "data": {
      "text/plain": [
       "11"
      ]
     },
     "execution_count": 7,
     "metadata": {},
     "output_type": "execute_result"
    }
   ],
   "source": [
    "book.count(\"Chapter\")"
   ]
  },
  {
   "cell_type": "markdown",
   "id": "963879a4-48fd-465d-8bde-1b9a2224ea2d",
   "metadata": {},
   "source": [
    "### With regex"
   ]
  },
  {
   "cell_type": "code",
   "execution_count": 10,
   "id": "a2668214-4aef-4042-a72a-9514b5ad3a01",
   "metadata": {},
   "outputs": [],
   "source": [
    "import re"
   ]
  },
  {
   "cell_type": "code",
   "execution_count": 17,
   "id": "874f95d9-7c19-4045-86b5-80df6bce6209",
   "metadata": {},
   "outputs": [
    {
     "data": {
      "text/plain": [
       "10"
      ]
     },
     "execution_count": 17,
     "metadata": {},
     "output_type": "execute_result"
    }
   ],
   "source": [
    "pattern = re.compile(\"Chapter [0-9]+\")\n",
    "chapters = re.findall(pattern, book)\n",
    "len(chapters)"
   ]
  },
  {
   "cell_type": "markdown",
   "id": "3afac26c-0713-4ad8-b80c-2e4aa4c9d2a9",
   "metadata": {},
   "source": [
    "# Which are the sentences where \"love\" was used?"
   ]
  },
  {
   "cell_type": "code",
   "execution_count": 26,
   "id": "dbd7db41-7e1c-41e9-9adc-df7bc2c6b87b",
   "metadata": {},
   "outputs": [
    {
     "data": {
      "text/plain": [
       "67"
      ]
     },
     "execution_count": 26,
     "metadata": {},
     "output_type": "execute_result"
    }
   ],
   "source": [
    "pattern = re.compile(\"[^.]*[^a-zA-Z]+love[^a-zA-Z]+[^.]*.\")\n",
    "results = re.findall(pattern, book)\n",
    "results"
   ]
  },
  {
   "cell_type": "markdown",
   "id": "583c446e-e9bf-4ad8-9141-bde9de558ef1",
   "metadata": {},
   "source": [
    "# What are the most used words?"
   ]
  },
  {
   "cell_type": "code",
   "execution_count": 30,
   "id": "78719c4c-35b4-49ba-a885-825444273389",
   "metadata": {},
   "outputs": [
    {
     "data": {
      "text/plain": [
       "['chapter', 'before', 'it', 'was', 'friday']"
      ]
     },
     "execution_count": 30,
     "metadata": {},
     "output_type": "execute_result"
    }
   ],
   "source": [
    "pattern = re.compile(\"[a-zA-Z]+\")\n",
    "results = re.findall(pattern, book.lower())\n",
    "results[:5]"
   ]
  },
  {
   "cell_type": "code",
   "execution_count": 33,
   "id": "611cb0ab-f700-4269-956a-3661c745311c",
   "metadata": {},
   "outputs": [],
   "source": [
    "d = {}\n",
    "for word in results:\n",
    "    if word in d.keys():\n",
    "        d[word] = d[word] + 1\n",
    "    else:\n",
    "        d[word] = 1"
   ]
  },
  {
   "cell_type": "markdown",
   "id": "f609a92b-dd6b-4830-b02c-7ae5f1189241",
   "metadata": {},
   "source": [
    "d_list = [(value, key) for (key, value) in d.items()]\n",
    "sorted(d_list, reverse=True)"
   ]
  },
  {
   "cell_type": "code",
   "execution_count": null,
   "id": "46af3c36-c0a3-476f-85d3-c2bdd11d6cde",
   "metadata": {},
   "outputs": [],
   "source": []
  }
 ],
 "metadata": {
  "kernelspec": {
   "display_name": "Python 3 (ipykernel)",
   "language": "python",
   "name": "python3"
  },
  "language_info": {
   "codemirror_mode": {
    "name": "ipython",
    "version": 3
   },
   "file_extension": ".py",
   "mimetype": "text/x-python",
   "name": "python",
   "nbconvert_exporter": "python",
   "pygments_lexer": "ipython3",
   "version": "3.11.1"
  }
 },
 "nbformat": 4,
 "nbformat_minor": 5
}
